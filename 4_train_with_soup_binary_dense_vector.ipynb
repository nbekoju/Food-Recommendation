{
 "cells": [
  {
   "cell_type": "markdown",
   "metadata": {},
   "source": [
    "### Data Preparation and Text Encoding"
   ]
  },
  {
   "cell_type": "code",
   "execution_count": 1,
   "metadata": {},
   "outputs": [
    {
     "name": "stderr",
     "output_type": "stream",
     "text": [
      "/home/niranjan/miniconda3/envs/deepctr/lib/python3.7/site-packages/tqdm/auto.py:21: TqdmWarning: IProgress not found. Please update jupyter and ipywidgets. See https://ipywidgets.readthedocs.io/en/stable/user_install.html\n",
      "  from .autonotebook import tqdm as notebook_tqdm\n"
     ]
    }
   ],
   "source": [
    "import numpy as np\n",
    "import pandas as pd\n",
    "\n",
    "from sklearn.preprocessing import LabelEncoder, MinMaxScaler\n",
    "from deepctr.feature_column import SparseFeat, DenseFeat, get_feature_names\n",
    "\n",
    "from sklearn.model_selection import train_test_split\n",
    "from sklearn.metrics import mean_squared_error\n",
    "\n",
    "from sentence_transformers import SentenceTransformer\n",
    "\n",
    "from deepctr.models import DeepFM"
   ]
  },
  {
   "cell_type": "code",
   "execution_count": 2,
   "metadata": {},
   "outputs": [
    {
     "name": "stdout",
     "output_type": "stream",
     "text": [
      "<class 'pandas.core.frame.DataFrame'>\n",
      "RangeIndex: 151148 entries, 0 to 151147\n",
      "Data columns (total 7 columns):\n",
      " #   Column     Non-Null Count   Dtype\n",
      "---  ------     --------------   -----\n",
      " 0   user_id    151148 non-null  int64\n",
      " 1   recipe_id  151148 non-null  int64\n",
      " 2   rating     151148 non-null  int64\n",
      " 3   year       151148 non-null  int64\n",
      " 4   month      151148 non-null  int64\n",
      " 5   day        151148 non-null  int64\n",
      " 6   hour       151148 non-null  int64\n",
      "dtypes: int64(7)\n",
      "memory usage: 8.1 MB\n"
     ]
    },
    {
     "data": {
      "text/html": [
       "<div>\n",
       "<style scoped>\n",
       "    .dataframe tbody tr th:only-of-type {\n",
       "        vertical-align: middle;\n",
       "    }\n",
       "\n",
       "    .dataframe tbody tr th {\n",
       "        vertical-align: top;\n",
       "    }\n",
       "\n",
       "    .dataframe thead th {\n",
       "        text-align: right;\n",
       "    }\n",
       "</style>\n",
       "<table border=\"1\" class=\"dataframe\">\n",
       "  <thead>\n",
       "    <tr style=\"text-align: right;\">\n",
       "      <th></th>\n",
       "      <th>user_id</th>\n",
       "      <th>recipe_id</th>\n",
       "      <th>rating</th>\n",
       "      <th>year</th>\n",
       "      <th>month</th>\n",
       "      <th>day</th>\n",
       "      <th>hour</th>\n",
       "    </tr>\n",
       "  </thead>\n",
       "  <tbody>\n",
       "    <tr>\n",
       "      <th>0</th>\n",
       "      <td>39</td>\n",
       "      <td>61727</td>\n",
       "      <td>4</td>\n",
       "      <td>2001</td>\n",
       "      <td>3</td>\n",
       "      <td>26</td>\n",
       "      <td>7</td>\n",
       "    </tr>\n",
       "    <tr>\n",
       "      <th>1</th>\n",
       "      <td>39</td>\n",
       "      <td>7612</td>\n",
       "      <td>5</td>\n",
       "      <td>2004</td>\n",
       "      <td>8</td>\n",
       "      <td>2</td>\n",
       "      <td>16</td>\n",
       "    </tr>\n",
       "    <tr>\n",
       "      <th>2</th>\n",
       "      <td>39</td>\n",
       "      <td>12009</td>\n",
       "      <td>4</td>\n",
       "      <td>2001</td>\n",
       "      <td>2</td>\n",
       "      <td>28</td>\n",
       "      <td>10</td>\n",
       "    </tr>\n",
       "    <tr>\n",
       "      <th>3</th>\n",
       "      <td>39</td>\n",
       "      <td>88185</td>\n",
       "      <td>5</td>\n",
       "      <td>2009</td>\n",
       "      <td>5</td>\n",
       "      <td>18</td>\n",
       "      <td>14</td>\n",
       "    </tr>\n",
       "    <tr>\n",
       "      <th>4</th>\n",
       "      <td>39</td>\n",
       "      <td>24445</td>\n",
       "      <td>5</td>\n",
       "      <td>2015</td>\n",
       "      <td>5</td>\n",
       "      <td>7</td>\n",
       "      <td>15</td>\n",
       "    </tr>\n",
       "  </tbody>\n",
       "</table>\n",
       "</div>"
      ],
      "text/plain": [
       "   user_id  recipe_id  rating  year  month  day  hour\n",
       "0       39      61727       4  2001      3   26     7\n",
       "1       39       7612       5  2004      8    2    16\n",
       "2       39      12009       4  2001      2   28    10\n",
       "3       39      88185       5  2009      5   18    14\n",
       "4       39      24445       5  2015      5    7    15"
      ]
     },
     "execution_count": 2,
     "metadata": {},
     "output_type": "execute_result"
    }
   ],
   "source": [
    "preprocessed_inter_df = pd.read_csv(\"./MealRec/preprocessed_user_recipe.csv\")\n",
    "preprocessed_inter_df.info()\n",
    "preprocessed_inter_df.head()"
   ]
  },
  {
   "cell_type": "code",
   "execution_count": 3,
   "metadata": {},
   "outputs": [
    {
     "name": "stdout",
     "output_type": "stream",
     "text": [
      "<class 'pandas.core.frame.DataFrame'>\n",
      "RangeIndex: 7280 entries, 0 to 7279\n",
      "Data columns (total 9 columns):\n",
      " #   Column              Non-Null Count  Dtype  \n",
      "---  ------              --------------  -----  \n",
      " 0   recipe_id           7280 non-null   int64  \n",
      " 1   recipe_name         7280 non-null   object \n",
      " 2   review_nums         7280 non-null   int64  \n",
      " 3   category            7280 non-null   object \n",
      " 4   aver_rate           7280 non-null   float64\n",
      " 5   ingredients         7280 non-null   object \n",
      " 6   cooking_directions  7280 non-null   object \n",
      " 7   nutritions          7280 non-null   object \n",
      " 8   tags                7278 non-null   object \n",
      "dtypes: float64(1), int64(2), object(6)\n",
      "memory usage: 512.0+ KB\n"
     ]
    },
    {
     "data": {
      "text/html": [
       "<div>\n",
       "<style scoped>\n",
       "    .dataframe tbody tr th:only-of-type {\n",
       "        vertical-align: middle;\n",
       "    }\n",
       "\n",
       "    .dataframe tbody tr th {\n",
       "        vertical-align: top;\n",
       "    }\n",
       "\n",
       "    .dataframe thead th {\n",
       "        text-align: right;\n",
       "    }\n",
       "</style>\n",
       "<table border=\"1\" class=\"dataframe\">\n",
       "  <thead>\n",
       "    <tr style=\"text-align: right;\">\n",
       "      <th></th>\n",
       "      <th>recipe_id</th>\n",
       "      <th>recipe_name</th>\n",
       "      <th>review_nums</th>\n",
       "      <th>category</th>\n",
       "      <th>aver_rate</th>\n",
       "      <th>ingredients</th>\n",
       "      <th>cooking_directions</th>\n",
       "      <th>nutritions</th>\n",
       "      <th>tags</th>\n",
       "    </tr>\n",
       "  </thead>\n",
       "  <tbody>\n",
       "    <tr>\n",
       "      <th>0</th>\n",
       "      <td>6698</td>\n",
       "      <td>Mom's Zucchini Bread</td>\n",
       "      <td>9355</td>\n",
       "      <td>appetizer</td>\n",
       "      <td>4.754207</td>\n",
       "      <td>purpose flour salt baking soda baking powder g...</td>\n",
       "      <td>directions u prep n20 ncook n1 h nready n1 h 4...</td>\n",
       "      <td>u niacin u hascompletedata true u name u niaci...</td>\n",
       "      <td>north american breads easy beginner cook inexp...</td>\n",
       "    </tr>\n",
       "    <tr>\n",
       "      <th>1</th>\n",
       "      <td>6709</td>\n",
       "      <td>Zucchini Walnut Bread</td>\n",
       "      <td>58</td>\n",
       "      <td>appetizer</td>\n",
       "      <td>4.478873</td>\n",
       "      <td>chopped walnuts eggs white sugar vegetable oil...</td>\n",
       "      <td>directions u whisk together flour baking soda ...</td>\n",
       "      <td>u niacin u hascompletedata true u name u niaci...</td>\n",
       "      <td>weeknight breads fruit vegetables kid friendly...</td>\n",
       "    </tr>\n",
       "    <tr>\n",
       "      <th>2</th>\n",
       "      <td>6725</td>\n",
       "      <td>Honey Wheat Bread I</td>\n",
       "      <td>2054</td>\n",
       "      <td>appetizer</td>\n",
       "      <td>4.766846</td>\n",
       "      <td>rapid rise yeast white sugar warm water 110 de...</td>\n",
       "      <td>directions u prep n25 ncook n35 nready n2 h 30...</td>\n",
       "      <td>u niacin u hascompletedata true u name u niaci...</td>\n",
       "      <td>healthy breads dietary low cholesterol healthy...</td>\n",
       "    </tr>\n",
       "    <tr>\n",
       "      <th>3</th>\n",
       "      <td>6730</td>\n",
       "      <td>Chocolate Chip Orange Zucchini Bread</td>\n",
       "      <td>503</td>\n",
       "      <td>dessert</td>\n",
       "      <td>4.674833</td>\n",
       "      <td>eggs white sugar vegetable oil vanilla extract...</td>\n",
       "      <td>directions u sift together flour baking powder...</td>\n",
       "      <td>u niacin u hascompletedata true u name u niaci...</td>\n",
       "      <td>large groups healthy breads kid friendly dieta...</td>\n",
       "    </tr>\n",
       "    <tr>\n",
       "      <th>4</th>\n",
       "      <td>6732</td>\n",
       "      <td>Chocolate Chip Pumpkin Bread</td>\n",
       "      <td>866</td>\n",
       "      <td>dessert</td>\n",
       "      <td>4.718112</td>\n",
       "      <td>white sugar pumpkin puree vegetable oil water ...</td>\n",
       "      <td>directions u prep n30 ncook n1 h nready n1 h 3...</td>\n",
       "      <td>u niacin u hascompletedata true u name u niaci...</td>\n",
       "      <td>breads fall winter seasonal quick breads 4 hou...</td>\n",
       "    </tr>\n",
       "  </tbody>\n",
       "</table>\n",
       "</div>"
      ],
      "text/plain": [
       "   recipe_id                           recipe_name  review_nums   category  \\\n",
       "0       6698                  Mom's Zucchini Bread         9355  appetizer   \n",
       "1       6709                 Zucchini Walnut Bread           58  appetizer   \n",
       "2       6725                   Honey Wheat Bread I         2054  appetizer   \n",
       "3       6730  Chocolate Chip Orange Zucchini Bread          503    dessert   \n",
       "4       6732          Chocolate Chip Pumpkin Bread          866    dessert   \n",
       "\n",
       "   aver_rate                                        ingredients  \\\n",
       "0   4.754207  purpose flour salt baking soda baking powder g...   \n",
       "1   4.478873  chopped walnuts eggs white sugar vegetable oil...   \n",
       "2   4.766846  rapid rise yeast white sugar warm water 110 de...   \n",
       "3   4.674833  eggs white sugar vegetable oil vanilla extract...   \n",
       "4   4.718112  white sugar pumpkin puree vegetable oil water ...   \n",
       "\n",
       "                                  cooking_directions  \\\n",
       "0  directions u prep n20 ncook n1 h nready n1 h 4...   \n",
       "1  directions u whisk together flour baking soda ...   \n",
       "2  directions u prep n25 ncook n35 nready n2 h 30...   \n",
       "3  directions u sift together flour baking powder...   \n",
       "4  directions u prep n30 ncook n1 h nready n1 h 3...   \n",
       "\n",
       "                                          nutritions  \\\n",
       "0  u niacin u hascompletedata true u name u niaci...   \n",
       "1  u niacin u hascompletedata true u name u niaci...   \n",
       "2  u niacin u hascompletedata true u name u niaci...   \n",
       "3  u niacin u hascompletedata true u name u niaci...   \n",
       "4  u niacin u hascompletedata true u name u niaci...   \n",
       "\n",
       "                                                tags  \n",
       "0  north american breads easy beginner cook inexp...  \n",
       "1  weeknight breads fruit vegetables kid friendly...  \n",
       "2  healthy breads dietary low cholesterol healthy...  \n",
       "3  large groups healthy breads kid friendly dieta...  \n",
       "4  breads fall winter seasonal quick breads 4 hou...  "
      ]
     },
     "execution_count": 3,
     "metadata": {},
     "output_type": "execute_result"
    }
   ],
   "source": [
    "preprocessed_recipe_df = pd.read_csv(\"./MealRec/preprocessed_recipe.csv\")\n",
    "preprocessed_recipe_df.info()\n",
    "preprocessed_recipe_df.head()"
   ]
  },
  {
   "cell_type": "code",
   "execution_count": 4,
   "metadata": {},
   "outputs": [
    {
     "name": "stdout",
     "output_type": "stream",
     "text": [
      "<class 'pandas.core.frame.DataFrame'>\n",
      "Int64Index: 151148 entries, 0 to 151147\n",
      "Data columns (total 15 columns):\n",
      " #   Column              Non-Null Count   Dtype  \n",
      "---  ------              --------------   -----  \n",
      " 0   user_id             151148 non-null  int64  \n",
      " 1   recipe_id           151148 non-null  int64  \n",
      " 2   rating              151148 non-null  int64  \n",
      " 3   year                151148 non-null  int64  \n",
      " 4   month               151148 non-null  int64  \n",
      " 5   day                 151148 non-null  int64  \n",
      " 6   hour                151148 non-null  int64  \n",
      " 7   recipe_name         151148 non-null  object \n",
      " 8   review_nums         151148 non-null  int64  \n",
      " 9   category            151148 non-null  object \n",
      " 10  aver_rate           151148 non-null  float64\n",
      " 11  ingredients         151148 non-null  object \n",
      " 12  cooking_directions  151148 non-null  object \n",
      " 13  nutritions          151148 non-null  object \n",
      " 14  tags                151120 non-null  object \n",
      "dtypes: float64(1), int64(8), object(6)\n",
      "memory usage: 18.5+ MB\n"
     ]
    },
    {
     "data": {
      "text/html": [
       "<div>\n",
       "<style scoped>\n",
       "    .dataframe tbody tr th:only-of-type {\n",
       "        vertical-align: middle;\n",
       "    }\n",
       "\n",
       "    .dataframe tbody tr th {\n",
       "        vertical-align: top;\n",
       "    }\n",
       "\n",
       "    .dataframe thead th {\n",
       "        text-align: right;\n",
       "    }\n",
       "</style>\n",
       "<table border=\"1\" class=\"dataframe\">\n",
       "  <thead>\n",
       "    <tr style=\"text-align: right;\">\n",
       "      <th></th>\n",
       "      <th>user_id</th>\n",
       "      <th>recipe_id</th>\n",
       "      <th>rating</th>\n",
       "      <th>year</th>\n",
       "      <th>month</th>\n",
       "      <th>day</th>\n",
       "      <th>hour</th>\n",
       "      <th>recipe_name</th>\n",
       "      <th>review_nums</th>\n",
       "      <th>category</th>\n",
       "      <th>aver_rate</th>\n",
       "      <th>ingredients</th>\n",
       "      <th>cooking_directions</th>\n",
       "      <th>nutritions</th>\n",
       "      <th>tags</th>\n",
       "    </tr>\n",
       "  </thead>\n",
       "  <tbody>\n",
       "    <tr>\n",
       "      <th>0</th>\n",
       "      <td>39</td>\n",
       "      <td>61727</td>\n",
       "      <td>4</td>\n",
       "      <td>2001</td>\n",
       "      <td>3</td>\n",
       "      <td>26</td>\n",
       "      <td>7</td>\n",
       "      <td>Ten Minute Enchilada Sauce</td>\n",
       "      <td>2443</td>\n",
       "      <td>main-dish</td>\n",
       "      <td>4.439774</td>\n",
       "      <td>vegetable oil self rising flour new mexico tom...</td>\n",
       "      <td>directions u prep n10 ncook n15 nready n25 nhe...</td>\n",
       "      <td>u niacin u hascompletedata true u name u niaci...</td>\n",
       "      <td>15 minutes less north american sauces condimen...</td>\n",
       "    </tr>\n",
       "    <tr>\n",
       "      <th>1</th>\n",
       "      <td>39</td>\n",
       "      <td>7612</td>\n",
       "      <td>5</td>\n",
       "      <td>2004</td>\n",
       "      <td>8</td>\n",
       "      <td>2</td>\n",
       "      <td>16</td>\n",
       "      <td>Chocolate Lovers' Favorite Cake</td>\n",
       "      <td>848</td>\n",
       "      <td>dessert</td>\n",
       "      <td>4.683846</td>\n",
       "      <td>devil food cake mix instant chocolate pudding ...</td>\n",
       "      <td>directions u prep n30 ncook n1 h nready n2 h n...</td>\n",
       "      <td>u niacin u hascompletedata false u name u niac...</td>\n",
       "      <td>large groups desserts oven cakes chocolate die...</td>\n",
       "    </tr>\n",
       "    <tr>\n",
       "      <th>2</th>\n",
       "      <td>39</td>\n",
       "      <td>12009</td>\n",
       "      <td>4</td>\n",
       "      <td>2001</td>\n",
       "      <td>2</td>\n",
       "      <td>28</td>\n",
       "      <td>10</td>\n",
       "      <td>Cajun Chicken Pasta</td>\n",
       "      <td>4573</td>\n",
       "      <td>main-dish</td>\n",
       "      <td>4.676716</td>\n",
       "      <td>linguine pasta boneless skinless chicken breas...</td>\n",
       "      <td>directions u prep n15 ncook n15 nready n30 nbr...</td>\n",
       "      <td>u niacin u hascompletedata false u name u niac...</td>\n",
       "      <td>30 minutes less north american main dish pasta...</td>\n",
       "    </tr>\n",
       "    <tr>\n",
       "      <th>3</th>\n",
       "      <td>39</td>\n",
       "      <td>88185</td>\n",
       "      <td>5</td>\n",
       "      <td>2009</td>\n",
       "      <td>5</td>\n",
       "      <td>18</td>\n",
       "      <td>14</td>\n",
       "      <td>Sopapilla Cheesecake</td>\n",
       "      <td>235</td>\n",
       "      <td>dessert</td>\n",
       "      <td>4.793919</td>\n",
       "      <td>cream cheese white sugar vanilla extract refri...</td>\n",
       "      <td>directions u prep n15 ncook n30 nready n45 npr...</td>\n",
       "      <td>u niacin u hascompletedata false u name u niac...</td>\n",
       "      <td>60 minutes less north american desserts eggs d...</td>\n",
       "    </tr>\n",
       "    <tr>\n",
       "      <th>4</th>\n",
       "      <td>39</td>\n",
       "      <td>24445</td>\n",
       "      <td>5</td>\n",
       "      <td>2015</td>\n",
       "      <td>5</td>\n",
       "      <td>7</td>\n",
       "      <td>15</td>\n",
       "      <td>Chewy Chocolate Chip Oatmeal Cookies</td>\n",
       "      <td>21731</td>\n",
       "      <td>dessert</td>\n",
       "      <td>4.554303</td>\n",
       "      <td>butter packed light brown sugar white sugar eg...</td>\n",
       "      <td>directions u prep n15 ncook n12 nready n55 npr...</td>\n",
       "      <td>u niacin u hascompletedata true u name u niaci...</td>\n",
       "      <td>30 minutes less large groups breakfast lunch s...</td>\n",
       "    </tr>\n",
       "  </tbody>\n",
       "</table>\n",
       "</div>"
      ],
      "text/plain": [
       "   user_id  recipe_id  rating  year  month  day  hour  \\\n",
       "0       39      61727       4  2001      3   26     7   \n",
       "1       39       7612       5  2004      8    2    16   \n",
       "2       39      12009       4  2001      2   28    10   \n",
       "3       39      88185       5  2009      5   18    14   \n",
       "4       39      24445       5  2015      5    7    15   \n",
       "\n",
       "                            recipe_name  review_nums   category  aver_rate  \\\n",
       "0            Ten Minute Enchilada Sauce         2443  main-dish   4.439774   \n",
       "1       Chocolate Lovers' Favorite Cake          848    dessert   4.683846   \n",
       "2                   Cajun Chicken Pasta         4573  main-dish   4.676716   \n",
       "3                  Sopapilla Cheesecake          235    dessert   4.793919   \n",
       "4  Chewy Chocolate Chip Oatmeal Cookies        21731    dessert   4.554303   \n",
       "\n",
       "                                         ingredients  \\\n",
       "0  vegetable oil self rising flour new mexico tom...   \n",
       "1  devil food cake mix instant chocolate pudding ...   \n",
       "2  linguine pasta boneless skinless chicken breas...   \n",
       "3  cream cheese white sugar vanilla extract refri...   \n",
       "4  butter packed light brown sugar white sugar eg...   \n",
       "\n",
       "                                  cooking_directions  \\\n",
       "0  directions u prep n10 ncook n15 nready n25 nhe...   \n",
       "1  directions u prep n30 ncook n1 h nready n2 h n...   \n",
       "2  directions u prep n15 ncook n15 nready n30 nbr...   \n",
       "3  directions u prep n15 ncook n30 nready n45 npr...   \n",
       "4  directions u prep n15 ncook n12 nready n55 npr...   \n",
       "\n",
       "                                          nutritions  \\\n",
       "0  u niacin u hascompletedata true u name u niaci...   \n",
       "1  u niacin u hascompletedata false u name u niac...   \n",
       "2  u niacin u hascompletedata false u name u niac...   \n",
       "3  u niacin u hascompletedata false u name u niac...   \n",
       "4  u niacin u hascompletedata true u name u niaci...   \n",
       "\n",
       "                                                tags  \n",
       "0  15 minutes less north american sauces condimen...  \n",
       "1  large groups desserts oven cakes chocolate die...  \n",
       "2  30 minutes less north american main dish pasta...  \n",
       "3  60 minutes less north american desserts eggs d...  \n",
       "4  30 minutes less large groups breakfast lunch s...  "
      ]
     },
     "execution_count": 4,
     "metadata": {},
     "output_type": "execute_result"
    }
   ],
   "source": [
    "input_data_df = pd.merge(preprocessed_inter_df, preprocessed_recipe_df, how=\"left\", on=\"recipe_id\")\n",
    "input_data_df.info()\n",
    "input_data_df.head()"
   ]
  },
  {
   "cell_type": "markdown",
   "metadata": {},
   "source": [
    "### Text Encoding"
   ]
  },
  {
   "cell_type": "code",
   "execution_count": 5,
   "metadata": {},
   "outputs": [],
   "source": [
    "soup_columns = [\"recipe_name\", \"ingredients\", \"cooking_directions\", \"nutritions\", \"tags\"]\n",
    "input_data_df[soup_columns] = input_data_df[soup_columns].astype(str)"
   ]
  },
  {
   "cell_type": "code",
   "execution_count": 6,
   "metadata": {},
   "outputs": [],
   "source": [
    "input_data_df[\"soup\"] = input_data_df.apply(lambda row: ' '.join(row[column] for column in soup_columns), axis=1)"
   ]
  },
  {
   "cell_type": "code",
   "execution_count": 7,
   "metadata": {},
   "outputs": [
    {
     "data": {
      "text/html": [
       "<div>\n",
       "<style scoped>\n",
       "    .dataframe tbody tr th:only-of-type {\n",
       "        vertical-align: middle;\n",
       "    }\n",
       "\n",
       "    .dataframe tbody tr th {\n",
       "        vertical-align: top;\n",
       "    }\n",
       "\n",
       "    .dataframe thead th {\n",
       "        text-align: right;\n",
       "    }\n",
       "</style>\n",
       "<table border=\"1\" class=\"dataframe\">\n",
       "  <thead>\n",
       "    <tr style=\"text-align: right;\">\n",
       "      <th></th>\n",
       "      <th>user_id</th>\n",
       "      <th>recipe_id</th>\n",
       "      <th>rating</th>\n",
       "      <th>year</th>\n",
       "      <th>month</th>\n",
       "      <th>day</th>\n",
       "      <th>hour</th>\n",
       "      <th>review_nums</th>\n",
       "      <th>category</th>\n",
       "      <th>aver_rate</th>\n",
       "      <th>soup</th>\n",
       "    </tr>\n",
       "  </thead>\n",
       "  <tbody>\n",
       "    <tr>\n",
       "      <th>0</th>\n",
       "      <td>39</td>\n",
       "      <td>61727</td>\n",
       "      <td>4</td>\n",
       "      <td>2001</td>\n",
       "      <td>3</td>\n",
       "      <td>26</td>\n",
       "      <td>7</td>\n",
       "      <td>2443</td>\n",
       "      <td>main-dish</td>\n",
       "      <td>4.439774</td>\n",
       "      <td>Ten Minute Enchilada Sauce vegetable oil self ...</td>\n",
       "    </tr>\n",
       "    <tr>\n",
       "      <th>1</th>\n",
       "      <td>39</td>\n",
       "      <td>7612</td>\n",
       "      <td>5</td>\n",
       "      <td>2004</td>\n",
       "      <td>8</td>\n",
       "      <td>2</td>\n",
       "      <td>16</td>\n",
       "      <td>848</td>\n",
       "      <td>dessert</td>\n",
       "      <td>4.683846</td>\n",
       "      <td>Chocolate Lovers' Favorite Cake devil food cak...</td>\n",
       "    </tr>\n",
       "    <tr>\n",
       "      <th>2</th>\n",
       "      <td>39</td>\n",
       "      <td>12009</td>\n",
       "      <td>4</td>\n",
       "      <td>2001</td>\n",
       "      <td>2</td>\n",
       "      <td>28</td>\n",
       "      <td>10</td>\n",
       "      <td>4573</td>\n",
       "      <td>main-dish</td>\n",
       "      <td>4.676716</td>\n",
       "      <td>Cajun Chicken Pasta linguine pasta boneless sk...</td>\n",
       "    </tr>\n",
       "    <tr>\n",
       "      <th>3</th>\n",
       "      <td>39</td>\n",
       "      <td>88185</td>\n",
       "      <td>5</td>\n",
       "      <td>2009</td>\n",
       "      <td>5</td>\n",
       "      <td>18</td>\n",
       "      <td>14</td>\n",
       "      <td>235</td>\n",
       "      <td>dessert</td>\n",
       "      <td>4.793919</td>\n",
       "      <td>Sopapilla Cheesecake cream cheese white sugar ...</td>\n",
       "    </tr>\n",
       "    <tr>\n",
       "      <th>4</th>\n",
       "      <td>39</td>\n",
       "      <td>24445</td>\n",
       "      <td>5</td>\n",
       "      <td>2015</td>\n",
       "      <td>5</td>\n",
       "      <td>7</td>\n",
       "      <td>15</td>\n",
       "      <td>21731</td>\n",
       "      <td>dessert</td>\n",
       "      <td>4.554303</td>\n",
       "      <td>Chewy Chocolate Chip Oatmeal Cookies butter pa...</td>\n",
       "    </tr>\n",
       "  </tbody>\n",
       "</table>\n",
       "</div>"
      ],
      "text/plain": [
       "   user_id  recipe_id  rating  year  month  day  hour  review_nums   category  \\\n",
       "0       39      61727       4  2001      3   26     7         2443  main-dish   \n",
       "1       39       7612       5  2004      8    2    16          848    dessert   \n",
       "2       39      12009       4  2001      2   28    10         4573  main-dish   \n",
       "3       39      88185       5  2009      5   18    14          235    dessert   \n",
       "4       39      24445       5  2015      5    7    15        21731    dessert   \n",
       "\n",
       "   aver_rate                                               soup  \n",
       "0   4.439774  Ten Minute Enchilada Sauce vegetable oil self ...  \n",
       "1   4.683846  Chocolate Lovers' Favorite Cake devil food cak...  \n",
       "2   4.676716  Cajun Chicken Pasta linguine pasta boneless sk...  \n",
       "3   4.793919  Sopapilla Cheesecake cream cheese white sugar ...  \n",
       "4   4.554303  Chewy Chocolate Chip Oatmeal Cookies butter pa...  "
      ]
     },
     "execution_count": 7,
     "metadata": {},
     "output_type": "execute_result"
    }
   ],
   "source": [
    "input_data_df.drop(soup_columns, axis=1, inplace=True)\n",
    "input_data_df.head()"
   ]
  },
  {
   "cell_type": "code",
   "execution_count": 8,
   "metadata": {},
   "outputs": [
    {
     "data": {
      "text/plain": [
       "5    101162\n",
       "4     49986\n",
       "Name: rating, dtype: int64"
      ]
     },
     "execution_count": 8,
     "metadata": {},
     "output_type": "execute_result"
    }
   ],
   "source": [
    "input_data_df[\"rating\"].value_counts()"
   ]
  },
  {
   "cell_type": "code",
   "execution_count": 9,
   "metadata": {},
   "outputs": [
    {
     "data": {
      "text/plain": [
       "1    101162\n",
       "0     49986\n",
       "Name: rating_binary, dtype: int64"
      ]
     },
     "execution_count": 9,
     "metadata": {},
     "output_type": "execute_result"
    }
   ],
   "source": [
    "input_data_df[\"rating_binary\"] = input_data_df[\"rating\"].apply(lambda x: 1 if x == 5 else 0)\n",
    "input_data_df[\"rating_binary\"].value_counts()"
   ]
  },
  {
   "cell_type": "code",
   "execution_count": 10,
   "metadata": {},
   "outputs": [
    {
     "data": {
      "text/plain": [
       "main-dish    69629\n",
       "dessert      46713\n",
       "appetizer    34806\n",
       "Name: category, dtype: int64"
      ]
     },
     "execution_count": 10,
     "metadata": {},
     "output_type": "execute_result"
    }
   ],
   "source": [
    "input_data_df[\"category\"].value_counts()"
   ]
  },
  {
   "cell_type": "markdown",
   "metadata": {},
   "source": [
    "### Feature Preparation"
   ]
  },
  {
   "cell_type": "code",
   "execution_count": 11,
   "metadata": {},
   "outputs": [
    {
     "data": {
      "text/plain": [
       "Index(['user_id', 'recipe_id', 'rating', 'year', 'month', 'day', 'hour',\n",
       "       'review_nums', 'category', 'aver_rate', 'soup', 'rating_binary'],\n",
       "      dtype='object')"
      ]
     },
     "execution_count": 11,
     "metadata": {},
     "output_type": "execute_result"
    }
   ],
   "source": [
    "input_data_df.columns"
   ]
  },
  {
   "cell_type": "code",
   "execution_count": 12,
   "metadata": {},
   "outputs": [
    {
     "data": {
      "text/plain": [
       "(8, 1)"
      ]
     },
     "execution_count": 12,
     "metadata": {},
     "output_type": "execute_result"
    }
   ],
   "source": [
    "sparse_features = ['user_id', 'recipe_id', 'year', 'month', 'day', 'hour', 'review_nums', 'category']\n",
    "dense_features = ['aver_rate']\n",
    "dense_vector = [\"soup_embedding\"]\n",
    "target = ['rating']\n",
    "binary_target = ['rating_binary']\n",
    "len(sparse_features), len(dense_features)"
   ]
  },
  {
   "cell_type": "code",
   "execution_count": 13,
   "metadata": {},
   "outputs": [],
   "source": [
    "embedding_model = SentenceTransformer(\"all-MiniLM-L6-v2\")\n",
    "embeddings = embedding_model.encode(input_data_df[\"soup\"])"
   ]
  },
  {
   "cell_type": "code",
   "execution_count": 14,
   "metadata": {},
   "outputs": [
    {
     "data": {
      "text/plain": [
       "((151148, 384), numpy.ndarray, dtype('float32'))"
      ]
     },
     "execution_count": 14,
     "metadata": {},
     "output_type": "execute_result"
    }
   ],
   "source": [
    "embeddings = embeddings.astype(np.float32)\n",
    "embeddings.shape, type(embeddings), embeddings.dtype"
   ]
  },
  {
   "cell_type": "code",
   "execution_count": 29,
   "metadata": {},
   "outputs": [
    {
     "data": {
      "text/html": [
       "<div>\n",
       "<style scoped>\n",
       "    .dataframe tbody tr th:only-of-type {\n",
       "        vertical-align: middle;\n",
       "    }\n",
       "\n",
       "    .dataframe tbody tr th {\n",
       "        vertical-align: top;\n",
       "    }\n",
       "\n",
       "    .dataframe thead th {\n",
       "        text-align: right;\n",
       "    }\n",
       "</style>\n",
       "<table border=\"1\" class=\"dataframe\">\n",
       "  <thead>\n",
       "    <tr style=\"text-align: right;\">\n",
       "      <th></th>\n",
       "      <th>user_id</th>\n",
       "      <th>recipe_id</th>\n",
       "      <th>rating</th>\n",
       "      <th>year</th>\n",
       "      <th>month</th>\n",
       "      <th>day</th>\n",
       "      <th>hour</th>\n",
       "      <th>review_nums</th>\n",
       "      <th>category</th>\n",
       "      <th>aver_rate</th>\n",
       "      <th>soup</th>\n",
       "      <th>rating_binary</th>\n",
       "      <th>soup_embedding</th>\n",
       "    </tr>\n",
       "  </thead>\n",
       "  <tbody>\n",
       "    <tr>\n",
       "      <th>0</th>\n",
       "      <td>0</td>\n",
       "      <td>4262</td>\n",
       "      <td>4</td>\n",
       "      <td>1</td>\n",
       "      <td>2</td>\n",
       "      <td>25</td>\n",
       "      <td>7</td>\n",
       "      <td>1071</td>\n",
       "      <td>2</td>\n",
       "      <td>0.846390</td>\n",
       "      <td>Ten Minute Enchilada Sauce vegetable oil self ...</td>\n",
       "      <td>0</td>\n",
       "      <td>[-0.11143646, -0.040947847, -0.057941463, 0.01...</td>\n",
       "    </tr>\n",
       "    <tr>\n",
       "      <th>1</th>\n",
       "      <td>0</td>\n",
       "      <td>101</td>\n",
       "      <td>5</td>\n",
       "      <td>4</td>\n",
       "      <td>7</td>\n",
       "      <td>1</td>\n",
       "      <td>16</td>\n",
       "      <td>708</td>\n",
       "      <td>1</td>\n",
       "      <td>0.913312</td>\n",
       "      <td>Chocolate Lovers' Favorite Cake devil food cak...</td>\n",
       "      <td>1</td>\n",
       "      <td>[-0.036412884, -0.053847514, 0.0032289294, 0.0...</td>\n",
       "    </tr>\n",
       "  </tbody>\n",
       "</table>\n",
       "</div>"
      ],
      "text/plain": [
       "   user_id  recipe_id  rating  year  month  day  hour  review_nums  category  \\\n",
       "0        0       4262       4     1      2   25     7         1071         2   \n",
       "1        0        101       5     4      7    1    16          708         1   \n",
       "\n",
       "   aver_rate                                               soup  \\\n",
       "0   0.846390  Ten Minute Enchilada Sauce vegetable oil self ...   \n",
       "1   0.913312  Chocolate Lovers' Favorite Cake devil food cak...   \n",
       "\n",
       "   rating_binary                                     soup_embedding  \n",
       "0              0  [-0.11143646, -0.040947847, -0.057941463, 0.01...  \n",
       "1              1  [-0.036412884, -0.053847514, 0.0032289294, 0.0...  "
      ]
     },
     "execution_count": 29,
     "metadata": {},
     "output_type": "execute_result"
    }
   ],
   "source": [
    "input_data_df[\"soup_embedding\"] = list(embeddings)\n",
    "input_data_df.head(2)"
   ]
  },
  {
   "cell_type": "code",
   "execution_count": 36,
   "metadata": {},
   "outputs": [
    {
     "data": {
      "text/plain": [
       "(151148, 384)"
      ]
     },
     "execution_count": 36,
     "metadata": {},
     "output_type": "execute_result"
    }
   ],
   "source": [
    "np.array(input_data_df[\"soup_embedding\"].tolist()).shape"
   ]
  },
  {
   "cell_type": "markdown",
   "metadata": {},
   "source": [
    "### Features"
   ]
  },
  {
   "cell_type": "code",
   "execution_count": 37,
   "metadata": {},
   "outputs": [
    {
     "data": {
      "text/html": [
       "<div>\n",
       "<style scoped>\n",
       "    .dataframe tbody tr th:only-of-type {\n",
       "        vertical-align: middle;\n",
       "    }\n",
       "\n",
       "    .dataframe tbody tr th {\n",
       "        vertical-align: top;\n",
       "    }\n",
       "\n",
       "    .dataframe thead th {\n",
       "        text-align: right;\n",
       "    }\n",
       "</style>\n",
       "<table border=\"1\" class=\"dataframe\">\n",
       "  <thead>\n",
       "    <tr style=\"text-align: right;\">\n",
       "      <th></th>\n",
       "      <th>user_id</th>\n",
       "      <th>recipe_id</th>\n",
       "      <th>rating</th>\n",
       "      <th>year</th>\n",
       "      <th>month</th>\n",
       "      <th>day</th>\n",
       "      <th>hour</th>\n",
       "      <th>review_nums</th>\n",
       "      <th>category</th>\n",
       "      <th>aver_rate</th>\n",
       "      <th>soup</th>\n",
       "      <th>rating_binary</th>\n",
       "      <th>soup_embedding</th>\n",
       "    </tr>\n",
       "  </thead>\n",
       "  <tbody>\n",
       "    <tr>\n",
       "      <th>0</th>\n",
       "      <td>0</td>\n",
       "      <td>4262</td>\n",
       "      <td>4</td>\n",
       "      <td>1</td>\n",
       "      <td>2</td>\n",
       "      <td>25</td>\n",
       "      <td>7</td>\n",
       "      <td>1071</td>\n",
       "      <td>2</td>\n",
       "      <td>0.846390</td>\n",
       "      <td>Ten Minute Enchilada Sauce vegetable oil self ...</td>\n",
       "      <td>0</td>\n",
       "      <td>[-0.11143646, -0.040947847, -0.057941463, 0.01...</td>\n",
       "    </tr>\n",
       "    <tr>\n",
       "      <th>1</th>\n",
       "      <td>0</td>\n",
       "      <td>101</td>\n",
       "      <td>5</td>\n",
       "      <td>4</td>\n",
       "      <td>7</td>\n",
       "      <td>1</td>\n",
       "      <td>16</td>\n",
       "      <td>708</td>\n",
       "      <td>1</td>\n",
       "      <td>0.913312</td>\n",
       "      <td>Chocolate Lovers' Favorite Cake devil food cak...</td>\n",
       "      <td>1</td>\n",
       "      <td>[-0.036412884, -0.053847514, 0.0032289294, 0.0...</td>\n",
       "    </tr>\n",
       "  </tbody>\n",
       "</table>\n",
       "</div>"
      ],
      "text/plain": [
       "   user_id  recipe_id  rating  year  month  day  hour  review_nums  category  \\\n",
       "0        0       4262       4     1      2   25     7         1071         2   \n",
       "1        0        101       5     4      7    1    16          708         1   \n",
       "\n",
       "   aver_rate                                               soup  \\\n",
       "0   0.846390  Ten Minute Enchilada Sauce vegetable oil self ...   \n",
       "1   0.913312  Chocolate Lovers' Favorite Cake devil food cak...   \n",
       "\n",
       "   rating_binary                                     soup_embedding  \n",
       "0              0  [-0.11143646, -0.040947847, -0.057941463, 0.01...  \n",
       "1              1  [-0.036412884, -0.053847514, 0.0032289294, 0.0...  "
      ]
     },
     "execution_count": 37,
     "metadata": {},
     "output_type": "execute_result"
    }
   ],
   "source": [
    "# processing the sparse features\n",
    "for feat in sparse_features:\n",
    "    lbe = LabelEncoder()\n",
    "    input_data_df[feat] = lbe.fit_transform(input_data_df[feat])\n",
    "input_data_df.head(2)"
   ]
  },
  {
   "cell_type": "code",
   "execution_count": 38,
   "metadata": {},
   "outputs": [
    {
     "data": {
      "text/plain": [
       "rating_binary\n",
       "1                101162\n",
       "0                 49986\n",
       "dtype: int64"
      ]
     },
     "execution_count": 38,
     "metadata": {},
     "output_type": "execute_result"
    }
   ],
   "source": [
    "input_data_df[binary_target].value_counts()"
   ]
  },
  {
   "cell_type": "code",
   "execution_count": 39,
   "metadata": {},
   "outputs": [],
   "source": [
    "mms = MinMaxScaler(feature_range=(0, 1))\n",
    "input_data_df[dense_features] = mms.fit_transform(input_data_df[dense_features])"
   ]
  },
  {
   "cell_type": "code",
   "execution_count": 40,
   "metadata": {},
   "outputs": [],
   "source": [
    "fixlen_feature_columns = [SparseFeat(feat, \n",
    "                                     vocabulary_size=input_data_df[feat].max() + 1, \n",
    "                                     embedding_dim=8)\n",
    "                            for feat in sparse_features]\n",
    "\n",
    "fixlen_feature_columns += [DenseFeat(feat, 1) for feat in dense_features]\n",
    "fixlen_feature_columns += [DenseFeat(feat, 384, np.float32) for feat in dense_vector]"
   ]
  },
  {
   "cell_type": "code",
   "execution_count": 41,
   "metadata": {},
   "outputs": [
    {
     "data": {
      "text/plain": [
       "(10,\n",
       " ['user_id',\n",
       "  'recipe_id',\n",
       "  'year',\n",
       "  'month',\n",
       "  'day',\n",
       "  'hour',\n",
       "  'review_nums',\n",
       "  'category',\n",
       "  'aver_rate',\n",
       "  'soup_embedding'])"
      ]
     },
     "execution_count": 41,
     "metadata": {},
     "output_type": "execute_result"
    }
   ],
   "source": [
    "dnn_feature_columns = fixlen_feature_columns\n",
    "linear_feature_columns = fixlen_feature_columns\n",
    "feature_names = get_feature_names(linear_feature_columns + dnn_feature_columns)\n",
    "len(feature_names), feature_names"
   ]
  },
  {
   "cell_type": "code",
   "execution_count": 42,
   "metadata": {},
   "outputs": [
    {
     "data": {
      "text/html": [
       "<div>\n",
       "<style scoped>\n",
       "    .dataframe tbody tr th:only-of-type {\n",
       "        vertical-align: middle;\n",
       "    }\n",
       "\n",
       "    .dataframe tbody tr th {\n",
       "        vertical-align: top;\n",
       "    }\n",
       "\n",
       "    .dataframe thead th {\n",
       "        text-align: right;\n",
       "    }\n",
       "</style>\n",
       "<table border=\"1\" class=\"dataframe\">\n",
       "  <thead>\n",
       "    <tr style=\"text-align: right;\">\n",
       "      <th></th>\n",
       "      <th>user_id</th>\n",
       "      <th>recipe_id</th>\n",
       "      <th>rating</th>\n",
       "      <th>year</th>\n",
       "      <th>month</th>\n",
       "      <th>day</th>\n",
       "      <th>hour</th>\n",
       "      <th>review_nums</th>\n",
       "      <th>category</th>\n",
       "      <th>aver_rate</th>\n",
       "      <th>soup</th>\n",
       "      <th>rating_binary</th>\n",
       "      <th>soup_embedding</th>\n",
       "    </tr>\n",
       "  </thead>\n",
       "  <tbody>\n",
       "    <tr>\n",
       "      <th>0</th>\n",
       "      <td>0</td>\n",
       "      <td>4262</td>\n",
       "      <td>4</td>\n",
       "      <td>1</td>\n",
       "      <td>2</td>\n",
       "      <td>25</td>\n",
       "      <td>7</td>\n",
       "      <td>1071</td>\n",
       "      <td>2</td>\n",
       "      <td>0.846390</td>\n",
       "      <td>Ten Minute Enchilada Sauce vegetable oil self ...</td>\n",
       "      <td>0</td>\n",
       "      <td>[-0.11143646, -0.040947847, -0.057941463, 0.01...</td>\n",
       "    </tr>\n",
       "    <tr>\n",
       "      <th>1</th>\n",
       "      <td>0</td>\n",
       "      <td>101</td>\n",
       "      <td>5</td>\n",
       "      <td>4</td>\n",
       "      <td>7</td>\n",
       "      <td>1</td>\n",
       "      <td>16</td>\n",
       "      <td>708</td>\n",
       "      <td>1</td>\n",
       "      <td>0.913312</td>\n",
       "      <td>Chocolate Lovers' Favorite Cake devil food cak...</td>\n",
       "      <td>1</td>\n",
       "      <td>[-0.036412884, -0.053847514, 0.0032289294, 0.0...</td>\n",
       "    </tr>\n",
       "  </tbody>\n",
       "</table>\n",
       "</div>"
      ],
      "text/plain": [
       "   user_id  recipe_id  rating  year  month  day  hour  review_nums  category  \\\n",
       "0        0       4262       4     1      2   25     7         1071         2   \n",
       "1        0        101       5     4      7    1    16          708         1   \n",
       "\n",
       "   aver_rate                                               soup  \\\n",
       "0   0.846390  Ten Minute Enchilada Sauce vegetable oil self ...   \n",
       "1   0.913312  Chocolate Lovers' Favorite Cake devil food cak...   \n",
       "\n",
       "   rating_binary                                     soup_embedding  \n",
       "0              0  [-0.11143646, -0.040947847, -0.057941463, 0.01...  \n",
       "1              1  [-0.036412884, -0.053847514, 0.0032289294, 0.0...  "
      ]
     },
     "execution_count": 42,
     "metadata": {},
     "output_type": "execute_result"
    }
   ],
   "source": [
    "input_data_df.head(2)"
   ]
  },
  {
   "cell_type": "code",
   "execution_count": 57,
   "metadata": {},
   "outputs": [],
   "source": [
    "train, test = train_test_split(input_data_df, test_size=0.2, random_state=2020)\n",
    "train_model_input = {name: train[name].values for name in feature_names if name not in dense_vector}\n",
    "test_model_input = {name: test[name].values for name in feature_names if name not in dense_vector}"
   ]
  },
  {
   "cell_type": "code",
   "execution_count": 59,
   "metadata": {},
   "outputs": [
    {
     "data": {
      "text/plain": [
       "((120918, 384), (30230, 384))"
      ]
     },
     "execution_count": 59,
     "metadata": {},
     "output_type": "execute_result"
    }
   ],
   "source": [
    "np.array(train[\"soup_embedding\"].tolist()).shape, np.array(test[\"soup_embedding\"].tolist()).shape "
   ]
  },
  {
   "cell_type": "code",
   "execution_count": 60,
   "metadata": {},
   "outputs": [],
   "source": [
    "train_model_input[\"soup_embedding\"] = np.array(train[\"soup_embedding\"].tolist())\n",
    "test_model_input[\"soup_embedding\"] = np.array(test[\"soup_embedding\"].tolist())"
   ]
  },
  {
   "cell_type": "code",
   "execution_count": 61,
   "metadata": {},
   "outputs": [
    {
     "data": {
      "text/plain": [
       "dict_keys(['user_id', 'recipe_id', 'year', 'month', 'day', 'hour', 'review_nums', 'category', 'aver_rate', 'soup_embedding'])"
      ]
     },
     "execution_count": 61,
     "metadata": {},
     "output_type": "execute_result"
    }
   ],
   "source": [
    "train_model_input.keys()"
   ]
  },
  {
   "cell_type": "code",
   "execution_count": 62,
   "metadata": {},
   "outputs": [
    {
     "name": "stdout",
     "output_type": "stream",
     "text": [
      "<class 'pandas.core.frame.DataFrame'>\n",
      "Int64Index: 120918 entries, 73154 to 41824\n",
      "Data columns (total 13 columns):\n",
      " #   Column          Non-Null Count   Dtype  \n",
      "---  ------          --------------   -----  \n",
      " 0   user_id         120918 non-null  int64  \n",
      " 1   recipe_id       120918 non-null  int64  \n",
      " 2   rating          120918 non-null  int64  \n",
      " 3   year            120918 non-null  int64  \n",
      " 4   month           120918 non-null  int64  \n",
      " 5   day             120918 non-null  int64  \n",
      " 6   hour            120918 non-null  int64  \n",
      " 7   review_nums     120918 non-null  int64  \n",
      " 8   category        120918 non-null  int64  \n",
      " 9   aver_rate       120918 non-null  float64\n",
      " 10  soup            120918 non-null  object \n",
      " 11  rating_binary   120918 non-null  int64  \n",
      " 12  soup_embedding  120918 non-null  object \n",
      "dtypes: float64(1), int64(10), object(2)\n",
      "memory usage: 12.9+ MB\n",
      "<class 'pandas.core.frame.DataFrame'>\n",
      "Int64Index: 30230 entries, 50307 to 731\n",
      "Data columns (total 13 columns):\n",
      " #   Column          Non-Null Count  Dtype  \n",
      "---  ------          --------------  -----  \n",
      " 0   user_id         30230 non-null  int64  \n",
      " 1   recipe_id       30230 non-null  int64  \n",
      " 2   rating          30230 non-null  int64  \n",
      " 3   year            30230 non-null  int64  \n",
      " 4   month           30230 non-null  int64  \n",
      " 5   day             30230 non-null  int64  \n",
      " 6   hour            30230 non-null  int64  \n",
      " 7   review_nums     30230 non-null  int64  \n",
      " 8   category        30230 non-null  int64  \n",
      " 9   aver_rate       30230 non-null  float64\n",
      " 10  soup            30230 non-null  object \n",
      " 11  rating_binary   30230 non-null  int64  \n",
      " 12  soup_embedding  30230 non-null  object \n",
      "dtypes: float64(1), int64(10), object(2)\n",
      "memory usage: 3.2+ MB\n"
     ]
    },
    {
     "data": {
      "text/plain": [
       "(None, None)"
      ]
     },
     "execution_count": 62,
     "metadata": {},
     "output_type": "execute_result"
    }
   ],
   "source": [
    "train.info(), test.info()"
   ]
  },
  {
   "cell_type": "code",
   "execution_count": 73,
   "metadata": {},
   "outputs": [],
   "source": [
    "model = DeepFM(linear_feature_columns, dnn_feature_columns, task='binary')\n",
    "model.compile(\"adam\", \"binary_crossentropy\", metrics=['binary_crossentropy'], )"
   ]
  },
  {
   "cell_type": "code",
   "execution_count": 74,
   "metadata": {},
   "outputs": [],
   "source": [
    "EPOCHS = 50\n",
    "BATCH_SIZE = 256"
   ]
  },
  {
   "cell_type": "code",
   "execution_count": 75,
   "metadata": {},
   "outputs": [
    {
     "data": {
      "text/plain": [
       "(120918, 30230, numpy.ndarray)"
      ]
     },
     "execution_count": 75,
     "metadata": {},
     "output_type": "execute_result"
    }
   ],
   "source": [
    "len(train_model_input[\"recipe_id\"]), len(test_model_input[\"recipe_id\"]), type(train_model_input[\"recipe_id\"])"
   ]
  },
  {
   "cell_type": "code",
   "execution_count": 76,
   "metadata": {},
   "outputs": [
    {
     "name": "stdout",
     "output_type": "stream",
     "text": [
      "Epoch 1/50\n",
      "449/449 - 3s - loss: 0.5852 - binary_crossentropy: 0.5849 - val_loss: 0.5649 - val_binary_crossentropy: 0.5643\n",
      "Epoch 2/50\n",
      "449/449 - 1s - loss: 0.5526 - binary_crossentropy: 0.5517 - val_loss: 0.5714 - val_binary_crossentropy: 0.5701\n",
      "Epoch 3/50\n",
      "449/449 - 1s - loss: 0.5421 - binary_crossentropy: 0.5405 - val_loss: 0.5680 - val_binary_crossentropy: 0.5660\n",
      "Epoch 4/50\n",
      "449/449 - 1s - loss: 0.5342 - binary_crossentropy: 0.5319 - val_loss: 0.5777 - val_binary_crossentropy: 0.5750\n",
      "Epoch 5/50\n",
      "449/449 - 1s - loss: 0.5273 - binary_crossentropy: 0.5242 - val_loss: 0.5833 - val_binary_crossentropy: 0.5799\n",
      "Epoch 6/50\n",
      "449/449 - 1s - loss: 0.5183 - binary_crossentropy: 0.5146 - val_loss: 0.5928 - val_binary_crossentropy: 0.5888\n",
      "Epoch 7/50\n",
      "449/449 - 1s - loss: 0.5100 - binary_crossentropy: 0.5057 - val_loss: 0.6175 - val_binary_crossentropy: 0.6130\n",
      "Epoch 8/50\n",
      "449/449 - 1s - loss: 0.5017 - binary_crossentropy: 0.4970 - val_loss: 0.6208 - val_binary_crossentropy: 0.6159\n",
      "Epoch 9/50\n",
      "449/449 - 1s - loss: 0.4920 - binary_crossentropy: 0.4869 - val_loss: 0.6434 - val_binary_crossentropy: 0.6380\n",
      "Epoch 10/50\n",
      "449/449 - 1s - loss: 0.4825 - binary_crossentropy: 0.4770 - val_loss: 0.6391 - val_binary_crossentropy: 0.6333\n",
      "Epoch 11/50\n",
      "449/449 - 1s - loss: 0.4706 - binary_crossentropy: 0.4647 - val_loss: 0.7017 - val_binary_crossentropy: 0.6955\n",
      "Epoch 12/50\n",
      "449/449 - 1s - loss: 0.4570 - binary_crossentropy: 0.4506 - val_loss: 0.7156 - val_binary_crossentropy: 0.7090\n",
      "Epoch 13/50\n",
      "449/449 - 1s - loss: 0.4402 - binary_crossentropy: 0.4334 - val_loss: 0.7585 - val_binary_crossentropy: 0.7516\n",
      "Epoch 14/50\n",
      "449/449 - 1s - loss: 0.4230 - binary_crossentropy: 0.4159 - val_loss: 0.8209 - val_binary_crossentropy: 0.8135\n",
      "Epoch 15/50\n",
      "449/449 - 1s - loss: 0.4044 - binary_crossentropy: 0.3969 - val_loss: 0.8443 - val_binary_crossentropy: 0.8365\n",
      "Epoch 16/50\n",
      "449/449 - 1s - loss: 0.3843 - binary_crossentropy: 0.3764 - val_loss: 0.9236 - val_binary_crossentropy: 0.9155\n",
      "Epoch 17/50\n",
      "449/449 - 1s - loss: 0.3642 - binary_crossentropy: 0.3559 - val_loss: 0.9707 - val_binary_crossentropy: 0.9623\n",
      "Epoch 18/50\n",
      "449/449 - 1s - loss: 0.3446 - binary_crossentropy: 0.3360 - val_loss: 1.0062 - val_binary_crossentropy: 0.9975\n",
      "Epoch 19/50\n",
      "449/449 - 1s - loss: 0.3266 - binary_crossentropy: 0.3177 - val_loss: 1.1318 - val_binary_crossentropy: 1.1227\n",
      "Epoch 20/50\n",
      "449/449 - 1s - loss: 0.3065 - binary_crossentropy: 0.2973 - val_loss: 1.2353 - val_binary_crossentropy: 1.2259\n",
      "Epoch 21/50\n",
      "449/449 - 1s - loss: 0.2906 - binary_crossentropy: 0.2811 - val_loss: 1.2650 - val_binary_crossentropy: 1.2554\n",
      "Epoch 22/50\n",
      "449/449 - 1s - loss: 0.2749 - binary_crossentropy: 0.2651 - val_loss: 1.3034 - val_binary_crossentropy: 1.2935\n",
      "Epoch 23/50\n",
      "449/449 - 1s - loss: 0.2608 - binary_crossentropy: 0.2508 - val_loss: 1.4300 - val_binary_crossentropy: 1.4198\n",
      "Epoch 24/50\n",
      "449/449 - 1s - loss: 0.2444 - binary_crossentropy: 0.2342 - val_loss: 1.4598 - val_binary_crossentropy: 1.4494\n",
      "Epoch 25/50\n",
      "449/449 - 1s - loss: 0.2296 - binary_crossentropy: 0.2191 - val_loss: 1.6366 - val_binary_crossentropy: 1.6260\n",
      "Epoch 26/50\n",
      "449/449 - 1s - loss: 0.2176 - binary_crossentropy: 0.2070 - val_loss: 1.6576 - val_binary_crossentropy: 1.6469\n",
      "Epoch 27/50\n",
      "449/449 - 1s - loss: 0.2067 - binary_crossentropy: 0.1958 - val_loss: 1.8177 - val_binary_crossentropy: 1.8067\n",
      "Epoch 28/50\n",
      "449/449 - 1s - loss: 0.1980 - binary_crossentropy: 0.1870 - val_loss: 1.8345 - val_binary_crossentropy: 1.8234\n",
      "Epoch 29/50\n",
      "449/449 - 1s - loss: 0.1861 - binary_crossentropy: 0.1748 - val_loss: 1.8760 - val_binary_crossentropy: 1.8647\n",
      "Epoch 30/50\n",
      "449/449 - 1s - loss: 0.1726 - binary_crossentropy: 0.1612 - val_loss: 1.9773 - val_binary_crossentropy: 1.9658\n",
      "Epoch 31/50\n",
      "449/449 - 1s - loss: 0.1683 - binary_crossentropy: 0.1568 - val_loss: 2.0464 - val_binary_crossentropy: 2.0347\n",
      "Epoch 32/50\n",
      "449/449 - 1s - loss: 0.1613 - binary_crossentropy: 0.1495 - val_loss: 2.0650 - val_binary_crossentropy: 2.0531\n",
      "Epoch 33/50\n",
      "449/449 - 1s - loss: 0.1527 - binary_crossentropy: 0.1408 - val_loss: 2.2180 - val_binary_crossentropy: 2.2060\n",
      "Epoch 34/50\n",
      "449/449 - 1s - loss: 0.1465 - binary_crossentropy: 0.1344 - val_loss: 2.2063 - val_binary_crossentropy: 2.1942\n",
      "Epoch 35/50\n",
      "449/449 - 1s - loss: 0.1383 - binary_crossentropy: 0.1261 - val_loss: 2.3236 - val_binary_crossentropy: 2.3113\n",
      "Epoch 36/50\n",
      "449/449 - 1s - loss: 0.1346 - binary_crossentropy: 0.1222 - val_loss: 2.3589 - val_binary_crossentropy: 2.3464\n",
      "Epoch 37/50\n",
      "449/449 - 1s - loss: 0.1263 - binary_crossentropy: 0.1138 - val_loss: 2.3424 - val_binary_crossentropy: 2.3297\n",
      "Epoch 38/50\n",
      "449/449 - 1s - loss: 0.1231 - binary_crossentropy: 0.1104 - val_loss: 2.4423 - val_binary_crossentropy: 2.4296\n",
      "Epoch 39/50\n",
      "449/449 - 1s - loss: 0.1137 - binary_crossentropy: 0.1009 - val_loss: 2.5026 - val_binary_crossentropy: 2.4898\n",
      "Epoch 40/50\n",
      "449/449 - 1s - loss: 0.1126 - binary_crossentropy: 0.0997 - val_loss: 2.4839 - val_binary_crossentropy: 2.4709\n",
      "Epoch 41/50\n",
      "449/449 - 1s - loss: 0.1095 - binary_crossentropy: 0.0964 - val_loss: 2.5878 - val_binary_crossentropy: 2.5747\n",
      "Epoch 42/50\n",
      "449/449 - 1s - loss: 0.1026 - binary_crossentropy: 0.0894 - val_loss: 2.6653 - val_binary_crossentropy: 2.6521\n",
      "Epoch 43/50\n",
      "449/449 - 1s - loss: 0.0989 - binary_crossentropy: 0.0856 - val_loss: 2.6125 - val_binary_crossentropy: 2.5992\n",
      "Epoch 44/50\n",
      "449/449 - 1s - loss: 0.1005 - binary_crossentropy: 0.0871 - val_loss: 2.6266 - val_binary_crossentropy: 2.6131\n",
      "Epoch 45/50\n",
      "449/449 - 1s - loss: 0.0995 - binary_crossentropy: 0.0860 - val_loss: 2.7441 - val_binary_crossentropy: 2.7306\n",
      "Epoch 46/50\n",
      "449/449 - 1s - loss: 0.0859 - binary_crossentropy: 0.0723 - val_loss: 2.7675 - val_binary_crossentropy: 2.7538\n",
      "Epoch 47/50\n",
      "449/449 - 1s - loss: 0.0871 - binary_crossentropy: 0.0735 - val_loss: 2.7481 - val_binary_crossentropy: 2.7344\n",
      "Epoch 48/50\n",
      "449/449 - 1s - loss: 0.0883 - binary_crossentropy: 0.0745 - val_loss: 2.7860 - val_binary_crossentropy: 2.7722\n",
      "Epoch 49/50\n",
      "449/449 - 1s - loss: 0.0817 - binary_crossentropy: 0.0678 - val_loss: 2.8602 - val_binary_crossentropy: 2.8464\n",
      "Epoch 50/50\n",
      "449/449 - 1s - loss: 0.0787 - binary_crossentropy: 0.0648 - val_loss: 2.9042 - val_binary_crossentropy: 2.8902\n"
     ]
    }
   ],
   "source": [
    "history = model.fit(train_model_input, \n",
    "                    train[binary_target].values, \n",
    "                    batch_size=BATCH_SIZE, \n",
    "                    epochs=EPOCHS, \n",
    "                    verbose=2, \n",
    "                    validation_split=0.05, )"
   ]
  },
  {
   "cell_type": "code",
   "execution_count": 77,
   "metadata": {},
   "outputs": [
    {
     "data": {
      "image/png": "[encoded data removed]",
      "text/plain": [
       "<Figure size 720x432 with 1 Axes>"
      ]
     },
     "metadata": {
      "needs_background": "light"
     },
     "output_type": "display_data"
    }
   ],
   "source": [
    "import matplotlib.pyplot as plt\n",
    "# Extract loss and validation loss values\n",
    "def plot_history(history, train_metric: str, val_metric: str):\n",
    "    history_dict = history.history\n",
    "\n",
    "    loss = history_dict[train_metric]\n",
    "    val_loss = history_dict[val_metric]\n",
    "    # Create an array with epoch numbers\n",
    "    epochs = range(1, len(loss) + 1)\n",
    "\n",
    "    # Plotting the training and validation loss\n",
    "    plt.figure(figsize=(10, 6))\n",
    "    plt.plot(epochs, loss, 'bo-', label=train_metric)\n",
    "    plt.plot(epochs, val_loss, 'ro-', label=val_metric)\n",
    "    plt.title(f'{train_metric} vs {val_metric}')\n",
    "    plt.xlabel('Epochs')\n",
    "    plt.ylabel('Loss')\n",
    "    plt.legend()\n",
    "    plt.show()\n",
    "\n",
    "plot_history(history, \"loss\", \"val_loss\")"
   ]
  },
  {
   "cell_type": "code",
   "execution_count": 78,
   "metadata": {},
   "outputs": [
    {
     "name": "stdout",
     "output_type": "stream",
     "text": [
      "test MSE 0.3353\n"
     ]
    }
   ],
   "source": [
    "pred_ans = model.predict(test_model_input, batch_size=256)\n",
    "print(\"test MSE\", round(mean_squared_error(test[binary_target].values, pred_ans), 4))"
   ]
  },
  {
   "cell_type": "markdown",
   "metadata": {},
   "source": [
    "### Manual Evaluation"
   ]
  },
  {
   "cell_type": "code",
   "execution_count": 79,
   "metadata": {},
   "outputs": [
    {
     "data": {
      "text/plain": [
       "(numpy.ndarray, numpy.ndarray)"
      ]
     },
     "execution_count": 79,
     "metadata": {},
     "output_type": "execute_result"
    }
   ],
   "source": [
    "ground_truth = test[binary_target].values\n",
    "prediction = pred_ans\n",
    "type(ground_truth), type(prediction)"
   ]
  },
  {
   "cell_type": "code",
   "execution_count": 80,
   "metadata": {},
   "outputs": [],
   "source": [
    "import numpy as np\n",
    "indices = np.random.choice(30230, size=10, replace=False)\n",
    "sample_array1 = ground_truth[indices]\n",
    "sample_array2 = prediction[indices]"
   ]
  },
  {
   "cell_type": "code",
   "execution_count": 83,
   "metadata": {},
   "outputs": [
    {
     "data": {
      "text/html": [
       "<div>\n",
       "<style scoped>\n",
       "    .dataframe tbody tr th:only-of-type {\n",
       "        vertical-align: middle;\n",
       "    }\n",
       "\n",
       "    .dataframe tbody tr th {\n",
       "        vertical-align: top;\n",
       "    }\n",
       "\n",
       "    .dataframe thead th {\n",
       "        text-align: right;\n",
       "    }\n",
       "</style>\n",
       "<table border=\"1\" class=\"dataframe\">\n",
       "  <thead>\n",
       "    <tr style=\"text-align: right;\">\n",
       "      <th></th>\n",
       "      <th>truth</th>\n",
       "      <th>pred</th>\n",
       "      <th>diff</th>\n",
       "    </tr>\n",
       "  </thead>\n",
       "  <tbody>\n",
       "    <tr>\n",
       "      <th>0</th>\n",
       "      <td>1</td>\n",
       "      <td>0.0000</td>\n",
       "      <td>1.0000</td>\n",
       "    </tr>\n",
       "    <tr>\n",
       "      <th>1</th>\n",
       "      <td>1</td>\n",
       "      <td>0.0790</td>\n",
       "      <td>0.9210</td>\n",
       "    </tr>\n",
       "    <tr>\n",
       "      <th>2</th>\n",
       "      <td>0</td>\n",
       "      <td>0.0000</td>\n",
       "      <td>0.0000</td>\n",
       "    </tr>\n",
       "    <tr>\n",
       "      <th>3</th>\n",
       "      <td>1</td>\n",
       "      <td>1.0000</td>\n",
       "      <td>0.0000</td>\n",
       "    </tr>\n",
       "    <tr>\n",
       "      <th>4</th>\n",
       "      <td>0</td>\n",
       "      <td>0.9984</td>\n",
       "      <td>0.9984</td>\n",
       "    </tr>\n",
       "    <tr>\n",
       "      <th>5</th>\n",
       "      <td>0</td>\n",
       "      <td>1.0000</td>\n",
       "      <td>1.0000</td>\n",
       "    </tr>\n",
       "    <tr>\n",
       "      <th>6</th>\n",
       "      <td>1</td>\n",
       "      <td>1.0000</td>\n",
       "      <td>0.0000</td>\n",
       "    </tr>\n",
       "    <tr>\n",
       "      <th>7</th>\n",
       "      <td>0</td>\n",
       "      <td>1.0000</td>\n",
       "      <td>1.0000</td>\n",
       "    </tr>\n",
       "    <tr>\n",
       "      <th>8</th>\n",
       "      <td>1</td>\n",
       "      <td>0.9658</td>\n",
       "      <td>0.0342</td>\n",
       "    </tr>\n",
       "    <tr>\n",
       "      <th>9</th>\n",
       "      <td>1</td>\n",
       "      <td>0.3282</td>\n",
       "      <td>0.6718</td>\n",
       "    </tr>\n",
       "  </tbody>\n",
       "</table>\n",
       "</div>"
      ],
      "text/plain": [
       "   truth    pred    diff\n",
       "0      1  0.0000  1.0000\n",
       "1      1  0.0790  0.9210\n",
       "2      0  0.0000  0.0000\n",
       "3      1  1.0000  0.0000\n",
       "4      0  0.9984  0.9984\n",
       "5      0  1.0000  1.0000\n",
       "6      1  1.0000  0.0000\n",
       "7      0  1.0000  1.0000\n",
       "8      1  0.9658  0.0342\n",
       "9      1  0.3282  0.6718"
      ]
     },
     "execution_count": 83,
     "metadata": {},
     "output_type": "execute_result"
    }
   ],
   "source": [
    "df = pd.DataFrame({'truth': sample_array1.flatten(), 'pred': sample_array2.flatten()})\n",
    "df['diff'] = np.abs(df['truth'] - df['pred'])\n",
    "df.round(4)\n"
   ]
  },
  {
   "cell_type": "markdown",
   "metadata": {},
   "source": [
    "### Model Inference"
   ]
  },
  {
   "cell_type": "code",
   "execution_count": 84,
   "metadata": {},
   "outputs": [
    {
     "data": {
      "text/plain": [
       "['user_id',\n",
       " 'recipe_id',\n",
       " 'year',\n",
       " 'month',\n",
       " 'day',\n",
       " 'hour',\n",
       " 'review_nums',\n",
       " 'category',\n",
       " 'aver_rate',\n",
       " 'soup_embedding']"
      ]
     },
     "execution_count": 84,
     "metadata": {},
     "output_type": "execute_result"
    }
   ],
   "source": [
    "feature_names"
   ]
  },
  {
   "cell_type": "code",
   "execution_count": 85,
   "metadata": {},
   "outputs": [
    {
     "data": {
      "text/plain": [
       "{'user_id': array([477, 461, 404, ..., 547, 189,   6]),\n",
       " 'recipe_id': array([3931, 1099,  717, ..., 2297, 4364, 2003]),\n",
       " 'year': array([ 5, 13,  9, ..., 17,  8,  6]),\n",
       " 'month': array([ 9, 10,  2, ...,  0,  2,  1]),\n",
       " 'day': array([ 3, 16, 17, ...,  8, 13, 10]),\n",
       " 'hour': array([14, 13,  1, ...,  0,  7,  9]),\n",
       " 'review_nums': array([ 246, 1106, 1211, ...,  938, 1046, 1080]),\n",
       " 'category': array([2, 1, 1, ..., 2, 2, 0]),\n",
       " 'aver_rate': array([0.78837414, 0.91249519, 0.87098815, ..., 0.83507911, 0.83883439,\n",
       "        0.94490743]),\n",
       " 'soup_embedding': array([[-0.00548283, -0.05072612, -0.03537296, ..., -0.08018075,\n",
       "         -0.03655843, -0.00328475],\n",
       "        [-0.00262577, -0.0482248 ,  0.00495016, ..., -0.05757214,\n",
       "         -0.00810685, -0.05366195],\n",
       "        [-0.05077625, -0.09264302, -0.00516207, ..., -0.08097457,\n",
       "         -0.04199636, -0.02631684],\n",
       "        ...,\n",
       "        [-0.07636411, -0.07031645, -0.00827871, ..., -0.04816492,\n",
       "         -0.04116781,  0.02848059],\n",
       "        [-0.03975313, -0.05485952, -0.03887488, ..., -0.01505654,\n",
       "         -0.03294524, -0.0183231 ],\n",
       "        [-0.07009712, -0.04696947, -0.00139548, ..., -0.03716553,\n",
       "         -0.06260463, -0.04298719]], dtype=float32)}"
      ]
     },
     "execution_count": 85,
     "metadata": {},
     "output_type": "execute_result"
    }
   ],
   "source": [
    "test_model_input"
   ]
  },
  {
   "cell_type": "code",
   "execution_count": 89,
   "metadata": {},
   "outputs": [
    {
     "data": {
      "text/plain": [
       "user_id                                                           0\n",
       "recipe_id                                                      4262\n",
       "rating                                                            4\n",
       "year                                                              1\n",
       "month                                                             2\n",
       "day                                                              25\n",
       "hour                                                              7\n",
       "review_nums                                                    1071\n",
       "category                                                          2\n",
       "aver_rate                                                   0.84639\n",
       "soup              Ten Minute Enchilada Sauce vegetable oil self ...\n",
       "rating_binary                                                     0\n",
       "soup_embedding    [-0.11143646, -0.040947847, -0.057941463, 0.01...\n",
       "Name: 0, dtype: object"
      ]
     },
     "execution_count": 89,
     "metadata": {},
     "output_type": "execute_result"
    }
   ],
   "source": [
    "sample_data = input_data_df.iloc[0]\n",
    "sample_data"
   ]
  },
  {
   "cell_type": "code",
   "execution_count": 98,
   "metadata": {},
   "outputs": [
    {
     "data": {
      "text/plain": [
       "(1, 384)"
      ]
     },
     "execution_count": 98,
     "metadata": {},
     "output_type": "execute_result"
    }
   ],
   "source": [
    "inference_input_data = {feat:np.array([sample_data[feat]]) for feat in feature_names}\n",
    "inference_input_data[\"soup_embedding\"].shape"
   ]
  },
  {
   "cell_type": "code",
   "execution_count": 99,
   "metadata": {},
   "outputs": [
    {
     "data": {
      "text/plain": [
       "{'user_id': array([0]),\n",
       " 'recipe_id': array([4262]),\n",
       " 'year': array([1]),\n",
       " 'month': array([2]),\n",
       " 'day': array([25]),\n",
       " 'hour': array([7]),\n",
       " 'review_nums': array([1071]),\n",
       " 'category': array([2]),\n",
       " 'aver_rate': array([0.84638953]),\n",
       " 'soup_embedding': array([[-1.11436456e-01, -4.09478471e-02, -5.79414628e-02,\n",
       "          1.59534682e-02, -1.89360492e-02,  3.74121442e-02,\n",
       "          1.25898048e-02,  1.39774731e-03, -4.88943793e-02,\n",
       "         -1.01665147e-01, -1.00389468e-02, -1.04857825e-01,\n",
       "          3.70231946e-03, -9.39152837e-02, -6.58409018e-03,\n",
       "         -6.45534769e-02,  1.61246091e-01,  2.58033909e-02,\n",
       "         -6.86128065e-02, -1.10628575e-01,  6.69355541e-02,\n",
       "          4.57302704e-02,  2.88913548e-02, -4.26467555e-03,\n",
       "          1.62896849e-02, -4.96225944e-03, -8.08038004e-03,\n",
       "         -2.24283375e-02, -5.81778511e-02, -4.78904359e-02,\n",
       "          4.20787670e-02,  7.54145533e-02, -2.12253220e-02,\n",
       "          5.32825198e-03, -3.66442204e-02,  1.58074927e-02,\n",
       "         -1.62647311e-02, -1.50137302e-02, -2.62010917e-02,\n",
       "         -2.63530966e-02,  3.71375978e-02, -6.13946542e-02,\n",
       "          4.55551483e-02, -4.52329852e-02,  4.32262309e-02,\n",
       "         -2.21628826e-02, -4.88752238e-02,  3.84362936e-02,\n",
       "          1.60553516e-03, -8.59459862e-02, -1.06976032e-01,\n",
       "         -3.53871807e-02,  2.00475361e-02,  8.92397109e-03,\n",
       "          3.39347241e-03,  9.97814722e-03, -5.83433434e-02,\n",
       "         -5.45228794e-02, -6.55713007e-02,  7.58658871e-02,\n",
       "          6.00586133e-03,  5.89300729e-02, -3.09357271e-02,\n",
       "          1.58660859e-02,  1.85342208e-02, -7.04059750e-02,\n",
       "         -4.43520136e-02, -4.55408031e-03, -1.80484224e-02,\n",
       "          7.39967078e-02,  3.12454179e-02, -1.60863288e-02,\n",
       "         -2.93581709e-02,  6.71584085e-02, -4.50858064e-02,\n",
       "          2.28496455e-02,  7.04866722e-02, -4.77924086e-02,\n",
       "         -3.80969420e-02,  7.94658158e-03, -1.99684463e-02,\n",
       "          8.03507790e-02,  7.23833591e-02, -3.70658981e-03,\n",
       "         -4.86902818e-02, -1.20405490e-02,  3.70339560e-03,\n",
       "          3.65575105e-02, -1.32851116e-03,  6.74038520e-03,\n",
       "          5.12533486e-02, -1.81819163e-02,  8.95605423e-03,\n",
       "          2.43985765e-02, -4.16494869e-02, -1.34468358e-02,\n",
       "         -3.83127891e-02, -1.08794697e-01, -2.92783491e-02,\n",
       "         -4.85334406e-03, -1.99328233e-02,  3.35491672e-02,\n",
       "         -2.70812940e-02, -6.83772936e-02, -2.73021460e-02,\n",
       "          7.86804780e-02,  1.24251343e-01,  1.27497375e-01,\n",
       "          1.61944646e-02,  4.04953547e-02, -4.87063006e-02,\n",
       "          2.94195786e-02, -6.14548698e-02, -5.22941798e-02,\n",
       "         -1.84343383e-02, -5.62056936e-02,  5.42157255e-02,\n",
       "         -3.16807814e-02,  3.10593974e-02, -5.63707948e-02,\n",
       "         -2.85841152e-02,  3.47137228e-02,  2.14696098e-02,\n",
       "          3.73919159e-02, -2.39241291e-02, -3.44739407e-02,\n",
       "         -4.45868587e-03,  9.24977476e-33, -2.18341984e-02,\n",
       "         -4.16494794e-02,  9.89304557e-02,  2.83847302e-02,\n",
       "          1.11114811e-02,  3.83405089e-02, -5.69395013e-02,\n",
       "          2.01905686e-02,  3.24328952e-02,  1.19708069e-02,\n",
       "         -3.52586955e-02,  2.63715945e-02, -7.71766230e-02,\n",
       "          1.34739608e-01, -4.27718312e-02, -3.74689475e-02,\n",
       "         -4.69660051e-02, -2.97901351e-02,  5.57390880e-03,\n",
       "          3.92377423e-03, -3.41785289e-02,  4.15000357e-02,\n",
       "          2.56191343e-02, -4.76960242e-02, -1.05658144e-01,\n",
       "          1.85139365e-02, -3.47314738e-02, -4.71370207e-04,\n",
       "          2.48925928e-02,  1.59407165e-02,  1.24286872e-03,\n",
       "          9.57048871e-03, -7.14468732e-02, -8.55274964e-03,\n",
       "         -2.46953741e-02, -2.31987778e-02,  5.56136519e-02,\n",
       "         -2.70514842e-02,  7.74768228e-03,  1.57458466e-02,\n",
       "         -1.26009984e-02,  3.35204937e-02, -4.35485877e-02,\n",
       "         -1.90014672e-02, -7.66481161e-02, -1.18939755e-02,\n",
       "          4.64880019e-02,  1.15817092e-01,  4.16740067e-02,\n",
       "          1.89812370e-02,  6.57947659e-02,  3.14510800e-02,\n",
       "          5.66444658e-02,  4.91182245e-02, -3.43037285e-02,\n",
       "          1.13343120e-01,  1.71522554e-02,  8.01832601e-03,\n",
       "          4.10089195e-02,  2.92507503e-02, -9.36131999e-02,\n",
       "          2.44248919e-02,  1.42817190e-02, -8.00449327e-02,\n",
       "         -7.35346526e-02,  2.78166160e-02, -3.11315954e-02,\n",
       "         -7.45528713e-02,  2.95093916e-02, -7.17617720e-02,\n",
       "         -6.03019521e-02, -7.88819194e-02,  8.75529796e-02,\n",
       "          5.30165210e-02,  6.35994449e-02, -5.77533245e-02,\n",
       "         -2.07699998e-03, -4.98354733e-02, -1.86455045e-02,\n",
       "         -1.39161199e-02,  4.59213965e-02, -7.88695440e-02,\n",
       "         -2.58114226e-02,  2.39403043e-02, -1.28999362e-02,\n",
       "          2.90993624e-03, -1.49738155e-02, -6.96909875e-02,\n",
       "          6.12892434e-02,  6.15568785e-03, -6.07528612e-02,\n",
       "         -3.57933044e-02,  1.07111059e-01, -7.42654353e-02,\n",
       "         -4.95338403e-02, -1.01393882e-32, -1.10631771e-02,\n",
       "         -5.64944148e-02, -4.90117259e-02,  1.02812357e-01,\n",
       "          1.16890855e-01, -1.02649048e-01, -2.29760874e-02,\n",
       "          8.92982353e-03,  1.57118123e-02,  2.55724695e-02,\n",
       "          1.08098788e-02, -3.99474427e-02,  1.72897298e-02,\n",
       "         -8.67194459e-02,  1.58288516e-02,  8.57561380e-02,\n",
       "          2.06358265e-02,  8.64705369e-02, -3.79005224e-02,\n",
       "         -5.83682302e-03, -4.89710756e-02,  9.08375904e-02,\n",
       "         -5.99154830e-02,  3.47463042e-02,  1.47709846e-02,\n",
       "          8.56038183e-02,  6.78905919e-02,  5.35938628e-02,\n",
       "          2.90758349e-02, -5.15544377e-02,  7.34586939e-02,\n",
       "         -7.32269362e-02, -1.31563559e-01, -5.54951020e-02,\n",
       "         -5.41097659e-04,  5.74140064e-02, -4.63924976e-03,\n",
       "         -2.69385241e-02, -7.78927580e-02,  3.60243544e-02,\n",
       "         -1.25154974e-02,  2.91384310e-02, -5.74220754e-02,\n",
       "          5.05062304e-02,  1.51547585e-02, -2.20672805e-02,\n",
       "          8.88864882e-03, -5.03308512e-02, -3.44662443e-02,\n",
       "          4.09910642e-02,  8.89091790e-02, -3.88803817e-02,\n",
       "         -1.93941798e-02,  5.25919758e-02,  5.19100837e-02,\n",
       "         -1.03703123e-02,  8.06077123e-02, -3.72444913e-02,\n",
       "          2.22466290e-02, -1.74866915e-02, -8.62299465e-03,\n",
       "          3.48991230e-02, -1.83132440e-02, -5.96737303e-02,\n",
       "          9.06527489e-02, -8.35669339e-02,  2.32683737e-02,\n",
       "         -3.96878039e-03,  5.37496209e-02,  4.81780358e-02,\n",
       "         -9.79833212e-03, -7.77199492e-02, -2.55132783e-02,\n",
       "         -6.25405759e-02,  6.62887916e-02,  1.39471260e-03,\n",
       "          1.00558801e-02, -6.00383990e-02, -4.99684326e-02,\n",
       "         -8.05473477e-02, -3.12422849e-02, -7.84972236e-02,\n",
       "          9.33852512e-03, -8.62563681e-03, -1.17574325e-02,\n",
       "          3.35188210e-02, -6.54863100e-03,  8.27033594e-02,\n",
       "          5.88387959e-02,  1.26007766e-01,  2.06901561e-02,\n",
       "          1.28643690e-02,  4.97228801e-02,  9.06357244e-02,\n",
       "          7.64768347e-02, -4.78899551e-08,  7.55821466e-02,\n",
       "         -7.48185590e-02, -3.50362272e-03,  8.29438791e-02,\n",
       "          1.89124960e-02, -3.04851998e-02, -6.43689325e-03,\n",
       "         -2.68669939e-03,  2.18357891e-02, -6.05324507e-02,\n",
       "          8.22779909e-02,  8.46388415e-02, -1.71151608e-02,\n",
       "          5.20198829e-02, -1.88654028e-02,  9.06508788e-03,\n",
       "          6.03042990e-02,  1.29824504e-02, -2.07568482e-02,\n",
       "          4.45372611e-02, -1.88386273e-02,  5.43752275e-02,\n",
       "         -1.26024231e-01, -7.08039477e-02,  4.59338240e-02,\n",
       "         -5.26030324e-02, -4.88095246e-02,  7.61599839e-02,\n",
       "          3.31503302e-02,  3.06824930e-02,  3.48872021e-02,\n",
       "          1.79840252e-02,  1.21012786e-02, -1.14942668e-02,\n",
       "          3.40864658e-02, -1.92370522e-03, -5.96830584e-02,\n",
       "          7.21363630e-03, -2.58431416e-02, -7.01874644e-02,\n",
       "         -9.43893194e-02,  4.45690006e-02, -6.48593996e-03,\n",
       "          4.71645892e-02, -2.79493295e-02, -2.96540074e-02,\n",
       "         -3.98329161e-02,  6.87752962e-02,  2.49429327e-03,\n",
       "          3.93901998e-03, -1.04480177e-01,  3.39185745e-02,\n",
       "         -1.42465318e-02, -8.50580074e-03,  2.48866882e-02,\n",
       "         -1.02566006e-02, -1.09884664e-02,  1.04516167e-02,\n",
       "          8.27121958e-02, -3.37391719e-02, -1.66357923e-02,\n",
       "          3.49896168e-03, -2.36670244e-02, -2.72351578e-02]], dtype=float32)}"
      ]
     },
     "execution_count": 99,
     "metadata": {},
     "output_type": "execute_result"
    }
   ],
   "source": [
    "inference_input_data"
   ]
  },
  {
   "cell_type": "code",
   "execution_count": 100,
   "metadata": {},
   "outputs": [
    {
     "data": {
      "text/plain": [
       "array([[0.0077823]], dtype=float32)"
      ]
     },
     "execution_count": 100,
     "metadata": {},
     "output_type": "execute_result"
    }
   ],
   "source": [
    "model.predict(inference_input_data)"
   ]
  },
  {
   "cell_type": "code",
   "execution_count": null,
   "metadata": {},
   "outputs": [],
   "source": []
  }
 ],
 "metadata": {
  "kernelspec": {
   "display_name": "deepctr",
   "language": "python",
   "name": "python3"
  },
  "language_info": {
   "codemirror_mode": {
    "name": "ipython",
    "version": 3
   },
   "file_extension": ".py",
   "mimetype": "text/x-python",
   "name": "python",
   "nbconvert_exporter": "python",
   "pygments_lexer": "ipython3",
   "version": "3.7.12"
  }
 },
 "nbformat": 4,
 "nbformat_minor": 2
}
